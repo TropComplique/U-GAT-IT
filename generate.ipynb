{
 "cells": [
  {
   "cell_type": "code",
   "execution_count": null,
   "metadata": {},
   "outputs": [],
   "source": [
    "import os\n",
    "import torch\n",
    "from PIL import Image\n",
    "\n",
    "from torchvision import transforms\n",
    "from networks import Generator"
   ]
  },
  {
   "cell_type": "code",
   "execution_count": null,
   "metadata": {},
   "outputs": [],
   "source": [
    "DATA = '/home/dan/datasets/selfie2anime/testA/'\n",
    "MODEL = 'models/run00_step_500000_generators.pth'\n",
    "DEVICE = torch.device('cuda:0')"
   ]
  },
  {
   "cell_type": "code",
   "execution_count": null,
   "metadata": {},
   "outputs": [],
   "source": [
    "generator = {\n",
    "    'A2B': Generator(),\n",
    "    'B2A': Generator()\n",
    "}\n",
    "\n",
    "generator = torch.nn.ModuleDict(generator)\n",
    "generator = generator.eval().to(DEVICE)\n",
    "generator.load_state_dict(torch.load(MODEL, map_location=DEVICE))\n",
    "\n",
    "transform = transforms.Compose([\n",
    "    transforms.Resize((256, 256)),\n",
    "    transforms.ToTensor()\n",
    "])"
   ]
  },
  {
   "cell_type": "code",
   "execution_count": null,
   "metadata": {},
   "outputs": [],
   "source": [
    "names = [\n",
    "    'female_12427.jpg', 'female_11846.jpg', \n",
    "    'female_13226.jpg', 'female_13567.jpg', \n",
    "    'female_15800.jpg', 'female_14013.jpg',\n",
    "    'female_15512.jpg', 'female_4197.jpg',\n",
    "    'female_12913.jpg', 'female_16169.jpg', \n",
    "    'female_14368.jpg'\n",
    "]"
   ]
  },
  {
   "cell_type": "code",
   "execution_count": null,
   "metadata": {},
   "outputs": [],
   "source": [
    "result = []\n",
    "\n",
    "for n in names:\n",
    "    \n",
    "    path = os.path.join(DATA, n)\n",
    "    image = Image.open(path)\n",
    "    x = transform(image).unsqueeze(0).to(DEVICE)\n",
    "\n",
    "    with torch.no_grad():\n",
    "        y, _, _ = generator['A2B'](x)\n",
    "\n",
    "    y = (255.0 * y).byte().squeeze(0).permute(1, 2, 0).cpu().numpy()\n",
    "    result.append((image, Image.fromarray(y)))"
   ]
  },
  {
   "cell_type": "code",
   "execution_count": null,
   "metadata": {},
   "outputs": [],
   "source": [
    "new = Image.new('RGB', (11 * 256, 2 * 256))\n",
    "\n",
    "for i, (a, b) in enumerate(result):\n",
    "    new.paste(a, (i * 256, 0))\n",
    "    new.paste(b, (i * 256, 256))\n",
    "    \n",
    "new"
   ]
  }
 ],
 "metadata": {
  "kernelspec": {
   "display_name": "Python 3",
   "language": "python",
   "name": "python3"
  },
  "language_info": {
   "codemirror_mode": {
    "name": "ipython",
    "version": 3
   },
   "file_extension": ".py",
   "mimetype": "text/x-python",
   "name": "python",
   "nbconvert_exporter": "python",
   "pygments_lexer": "ipython3",
   "version": "3.6.9"
  }
 },
 "nbformat": 4,
 "nbformat_minor": 2
}
